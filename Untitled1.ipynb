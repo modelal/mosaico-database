{
 "cells": [
  {
   "cell_type": "code",
   "execution_count": null,
   "id": "97177908",
   "metadata": {},
   "outputs": [],
   "source": [
    "\" Este fuc\""
   ]
  },
  {
   "cell_type": "code",
   "execution_count": 77,
   "id": "45dffc30",
   "metadata": {},
   "outputs": [],
   "source": [
    "import os\n",
    "import time\n",
    "import pandas as pd\n",
    "import requests\n",
    "\n",
    "# pip install selenium\n",
    "from selenium import webdriver\n",
    "from selenium.webdriver.common.keys import Keys\n",
    "from selenium.webdriver.common.by import By\n",
    "from selenium.webdriver.support.ui import WebDriverWait\n",
    "from selenium.webdriver.support import expected_conditions as EC\n",
    "from selenium.webdriver.support.ui import Select\n",
    "from selenium.webdriver.common.action_chains import ActionChains\n",
    "\n",
    "from selenium.webdriver.chrome.service import Service\n",
    "from selenium.webdriver.chrome.options import Options\n",
    "\n",
    "from bs4 import BeautifulSoup # pip install beautifulsoup4\n",
    "\n",
    "from datetime import datetime"
   ]
  },
  {
   "cell_type": "code",
   "execution_count": null,
   "id": "495d60fb",
   "metadata": {},
   "outputs": [],
   "source": []
  },
  {
   "cell_type": "code",
   "execution_count": 7,
   "id": "663d8bac",
   "metadata": {},
   "outputs": [],
   "source": [
    "url = \"http://repositorio2.unb.br/jspui/handle/10482/45731/browse?type=title&sort_by=1&order=ASC&rpp=100&etal=-1&null=&\""
   ]
  },
  {
   "cell_type": "code",
   "execution_count": 8,
   "id": "c66edec2",
   "metadata": {},
   "outputs": [],
   "source": [
    "def open_url(url):\n",
    "    \n",
    "    \"Starst the webdriver with a given url\"\n",
    "    \n",
    "    driver = webdriver.Chrome()  \n",
    "    actions = ActionChains(driver)\n",
    "    #wait = WebDriverWait(driver, 20)\n",
    "    #driver.maximize_window()\n",
    "    driver.get(url)\n",
    "    return driver"
   ]
  },
  {
   "cell_type": "code",
   "execution_count": 78,
   "id": "fde1e283",
   "metadata": {},
   "outputs": [],
   "source": [
    "def open_url_dw(url):\n",
    "\n",
    "    # Configurar ChromeOptions para bloquear descargas\n",
    "    chrome_options = Options()\n",
    "    chrome_options.add_experimental_option(\"prefs\", {\n",
    "        \"download.prompt_for_download\": False,   # No mostrar el diálogo de descarga\n",
    "        \"download_restrictions\": 3  # Bloquear todas las descargas automáticas\n",
    "    })\n",
    "\n",
    "    # Inicializar el controlador de Chrome con las opciones\n",
    "    driver = webdriver.Chrome(service=Service(), options=chrome_options)\n",
    "    \n",
    "    driver.get(url)\n",
    "    \n",
    "    return driver\n"
   ]
  },
  {
   "cell_type": "code",
   "execution_count": 53,
   "id": "80bf586a",
   "metadata": {},
   "outputs": [],
   "source": [
    "driver = open_url(url)\n",
    "#time.sleep(3)"
   ]
  },
  {
   "cell_type": "code",
   "execution_count": 66,
   "id": "3cbd8011",
   "metadata": {},
   "outputs": [],
   "source": [
    "elementos = driver.find_elements(By.XPATH, '//td[@headers=\"t3\"]')"
   ]
  },
  {
   "cell_type": "code",
   "execution_count": 67,
   "id": "34edbdd5",
   "metadata": {},
   "outputs": [
    {
     "data": {
      "text/plain": [
       "'10 coisas que eu odeio em você : a tradução para o cinema de A megera domada'"
      ]
     },
     "execution_count": 67,
     "metadata": {},
     "output_type": "execute_result"
    }
   ],
   "source": [
    "elementos[0].text"
   ]
  },
  {
   "cell_type": "code",
   "execution_count": 69,
   "id": "4d91ece1",
   "metadata": {},
   "outputs": [],
   "source": [
    "elementos[1].find_element(By.TAG_NAME, \"a\").click()"
   ]
  },
  {
   "cell_type": "code",
   "execution_count": 65,
   "id": "c13edc06",
   "metadata": {},
   "outputs": [],
   "source": [
    "n = 1\n",
    "#titulo = articulos[n].text\n",
    "\n",
    "articulos[n].click()"
   ]
  },
  {
   "cell_type": "code",
   "execution_count": 64,
   "id": "10dde4c8",
   "metadata": {},
   "outputs": [],
   "source": [
    "driver.back()"
   ]
  },
  {
   "cell_type": "code",
   "execution_count": 13,
   "id": "fdee44fd",
   "metadata": {},
   "outputs": [],
   "source": []
  },
  {
   "cell_type": "code",
   "execution_count": 15,
   "id": "2523b392",
   "metadata": {},
   "outputs": [],
   "source": []
  },
  {
   "cell_type": "code",
   "execution_count": 14,
   "id": "a781e0bc",
   "metadata": {},
   "outputs": [
    {
     "data": {
      "text/plain": [
       "'Fecha de publicación Data de defesa Título Autor(es) Orientador(es) Coorientador(es):'"
      ]
     },
     "execution_count": 14,
     "metadata": {},
     "output_type": "execute_result"
    }
   ],
   "source": [
    "rows[0].text"
   ]
  },
  {
   "cell_type": "code",
   "execution_count": 18,
   "id": "baafd7dd",
   "metadata": {},
   "outputs": [
    {
     "data": {
      "text/plain": [
       "'Título'"
      ]
     },
     "execution_count": 18,
     "metadata": {},
     "output_type": "execute_result"
    }
   ],
   "source": [
    "columns[2].text"
   ]
  },
  {
   "cell_type": "code",
   "execution_count": 35,
   "id": "4ff9ac6d",
   "metadata": {},
   "outputs": [
    {
     "data": {
      "text/plain": [
       "'http://repositorio2.unb.br/jspui/handle/10482/35656'"
      ]
     },
     "execution_count": 35,
     "metadata": {},
     "output_type": "execute_result"
    }
   ],
   "source": [
    "link = driver.current_url\n",
    "link\n",
    "\n",
    "# Sacamos toda la info \n",
    "# Volvemos"
   ]
  },
  {
   "cell_type": "code",
   "execution_count": null,
   "id": "8e10584f",
   "metadata": {},
   "outputs": [],
   "source": [
    "WebDriverWait(driver, 10).until(EC.element_to_be_clickable(a)).click()\n"
   ]
  },
  {
   "cell_type": "code",
   "execution_count": null,
   "id": "6fa7926d",
   "metadata": {},
   "outputs": [],
   "source": [
    "\n",
    "\n",
    "# Navegar a una página\n",
    "driver.get(\"https://example.com\")"
   ]
  },
  {
   "cell_type": "code",
   "execution_count": 93,
   "id": "7bc52451",
   "metadata": {},
   "outputs": [
    {
     "name": "stdout",
     "output_type": "stream",
     "text": [
      "hemos entrado en 100 articulos\n",
      "Siguiente clickeado\n"
     ]
    }
   ],
   "source": [
    "\"FUNCION PRICIPAL\"\n",
    "\n",
    "n = 0\n",
    "# abrimos el navegador. en la pagina inicial de la busqueda que para este caso es el repositorio GENERAL de todos \n",
    "# los documentos colgados referentes a  \"Teses, dissertações e produtos pós-doutorado\" por Título\n",
    "driver =  open_url_dw(url)\n",
    "time.sleep(3)\n",
    "\n",
    "\" Esta ya configurado el url para que la busqueda sea de 100 en 100 lo maximo que nos deja\"\n",
    "\n",
    "# buscamos todos los articulos de la tabla. YA hemo seleccionado el elemento mas conveniente \n",
    "# que en eeste caso es el titulo que tambien contiene el hipervinculo a la pagina del articulo:\n",
    "articulos = driver.find_elements(By.XPATH, '//td[@headers=\"t3\"]')\n",
    "\n",
    "# vamos a iterar por cada uno de los articulos para obtener la infomacion de referencia de este paper:\n",
    "for a in articulos:\n",
    "    \n",
    "    href = a.find_element(By.TAG_NAME, \"a\")\n",
    "    \n",
    "    \n",
    "    #print(a.text)\n",
    "    \n",
    "    WebDriverWait(driver, 10).until(EC.element_to_be_clickable(href)).click()\n",
    "    time.sleep(1)\n",
    "    link = driver.current_url\n",
    "    #print(link) --> si printeas el link se te descarga el documento, no se porque \n",
    "    \n",
    "   \n",
    "    \n",
    "    \"\"\"FUNCION para extraer los datos del articulo o documento en cuestions\"\"\"\n",
    "    \n",
    "    \n",
    "    driver.back() # --> volvemos a la pagina inicial\n",
    "    \n",
    "    n += 1\n",
    "\n",
    "\"\"\"Aqui habra que clickar siguiente y volver a hacer el proceso desde articulos. \n",
    "mirar como hacer el recrusive function\"\"\"\n",
    "\n",
    "print(f\"hemos entrado en {n} articulos\")\n",
    "\n",
    "footer = driver.find_element(By.CLASS_NAME, \"panel-footer.text-center\")\n",
    "\n",
    "# Siguiente pagina\n",
    "footer.find_element(By.CLASS_NAME, \"pull-right\").click()\n",
    "\n",
    "print(\"Siguiente clickeado\")"
   ]
  },
  {
   "cell_type": "code",
   "execution_count": 86,
   "id": "11a6e208",
   "metadata": {},
   "outputs": [],
   "source": [
    "driver =  open_url_dw(url)"
   ]
  },
  {
   "cell_type": "code",
   "execution_count": 91,
   "id": "b5217c20",
   "metadata": {},
   "outputs": [],
   "source": [
    "footer = driver.find_element(By.CLASS_NAME, \"panel-footer.text-center\")\n",
    "\n",
    "# Siguiente pagina\n",
    "footer.find_element(By.CLASS_NAME, \"pull-right\").click()"
   ]
  },
  {
   "cell_type": "code",
   "execution_count": 92,
   "id": "1adec06e",
   "metadata": {},
   "outputs": [],
   "source": [
    "footer.find_element(By.CLASS_NAME, \"pull-right\").click()"
   ]
  },
  {
   "cell_type": "code",
   "execution_count": null,
   "id": "26558e64",
   "metadata": {},
   "outputs": [],
   "source": [
    "articulos = driver.find_elements(By.XPATH, '//td[@headers=\"t3\"]')"
   ]
  },
  {
   "cell_type": "code",
   "execution_count": null,
   "id": "4a4f4316",
   "metadata": {},
   "outputs": [],
   "source": [
    "<div class=\"panel-footer text-center\">"
   ]
  },
  {
   "cell_type": "code",
   "execution_count": null,
   "id": "fc24298a",
   "metadata": {},
   "outputs": [],
   "source": [
    "<a class=\"pull-right\" "
   ]
  },
  {
   "cell_type": "code",
   "execution_count": null,
   "id": "dfa2a508",
   "metadata": {},
   "outputs": [],
   "source": [
    "<table align=\"center\" class=\"table\" summary=\"This table browses all dspace content\">\n"
   ]
  },
  {
   "cell_type": "code",
   "execution_count": null,
   "id": "1db4579f",
   "metadata": {},
   "outputs": [],
   "source": [
    "<td headers=\"t3\"><strong><a href=\"/jspui/handle/10482/35656\">10 coisas que eu odeio em você : a tradução para o cinema de A megera domada</a></strong></td>"
   ]
  },
  {
   "cell_type": "code",
   "execution_count": null,
   "id": "81ae9f02",
   "metadata": {},
   "outputs": [],
   "source": [
    "elements = driver.find_elements_by_xpath('//td[@headers=\"t3\"]/strong/a')"
   ]
  },
  {
   "cell_type": "code",
   "execution_count": 11,
   "id": "c1396fa0",
   "metadata": {},
   "outputs": [],
   "source": [
    "table = driver.find_element(By.TAG_NAME, \"table\")\n",
    "\n",
    "#All rows in the table:\n",
    "rows = table.find_elements(By.TAG_NAME, \"tr\")\n",
    "\n",
    "n = 0\n",
    "columns = rows[n].find_elements(By.TAG_NAME, \"th\")\n",
    "\n",
    "articulos = driver.find_elements(By.XPATH, '//td[@headers=\"t3\"]')"
   ]
  }
 ],
 "metadata": {
  "kernelspec": {
   "display_name": "ironhack",
   "language": "python",
   "name": "ironhack"
  },
  "language_info": {
   "codemirror_mode": {
    "name": "ipython",
    "version": 3
   },
   "file_extension": ".py",
   "mimetype": "text/x-python",
   "name": "python",
   "nbconvert_exporter": "python",
   "pygments_lexer": "ipython3",
   "version": "3.11.5"
  }
 },
 "nbformat": 4,
 "nbformat_minor": 5
}
